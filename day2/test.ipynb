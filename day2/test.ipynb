{
 "cells": [
  {
   "cell_type": "code",
   "execution_count": 2,
   "metadata": {},
   "outputs": [
    {
     "name": "stdout",
     "output_type": "stream",
     "text": [
      "[('forward', 6), ('down', 1), ('forward', 3), ('down', 2), ('down', 2), ('down', 6), ('forward', 2), ('down', 5), ('forward', 2), ('forward', 1), ('up', 9), ('down', 1)]\n"
     ]
    }
   ],
   "source": [
    "test_data = \"\"\"\n",
    "forward 6\n",
    "down 1\n",
    "forward 3\n",
    "down 2\n",
    "down 2\n",
    "down 6\n",
    "forward 2\n",
    "down 5\n",
    "forward 2\n",
    "forward 1\n",
    "up 9\n",
    "down 1\n",
    "\"\"\"\n",
    "def get_lst_tuple(filename: str):\n",
    "    lines = []\n",
    "    with open(filename) as file:\n",
    "        for line in file:\n",
    "            result = line.split()\n",
    "            lines.append((result[0], int(result[1])))\n",
    "    return lines\n",
    "\n",
    "print(get_lst_tuple(\"input-1-test.txt\"))\n"
   ]
  },
  {
   "cell_type": "code",
   "execution_count": 7,
   "metadata": {},
   "outputs": [
    {
     "name": "stdout",
     "output_type": "stream",
     "text": [
      "2187380\n"
     ]
    }
   ],
   "source": [
    "cordinate = {\"h\":0, \"v\":0}\n",
    "import functools\n",
    "data = get_lst_tuple(\"input-1.txt\")\n",
    "def update_cordinate(cord, data):\n",
    "    match data:\n",
    "        case ('forward', v):\n",
    "            cord['h'] += v\n",
    "        case ('down', v):\n",
    "            cord['v'] -= v\n",
    "        case ('up', v):\n",
    "            cord['v'] += v\n",
    "    return cord\n",
    "functools.reduce(lambda a, b: update_cordinate(a, b), data, cordinate)\n",
    "print(cordinate[\"h\"] * abs(cordinate[\"v\"]))"
   ]
  },
  {
   "cell_type": "code",
   "execution_count": 8,
   "metadata": {},
   "outputs": [
    {
     "name": "stdout",
     "output_type": "stream",
     "text": [
      "2086357770\n"
     ]
    }
   ],
   "source": [
    "cordinata_aim = {'h':0, 'v':0, 'aim': 0}\n",
    "def update_cordinate_aim(cord, data):\n",
    "    match data:\n",
    "        case ('forward', v):\n",
    "            cord['h'] += v\n",
    "            cord['v'] += cord['aim'] * v\n",
    "        case ('down', v):\n",
    "            cord['aim'] += v\n",
    "        case ('up', v):\n",
    "            cord['aim'] -= v\n",
    "    return cord\n",
    "\n",
    "functools.reduce(update_cordinate_aim, data, cordinata_aim)\n",
    "print(cordinata_aim['h'] * cordinata_aim['v'])"
   ]
  }
 ],
 "metadata": {
  "interpreter": {
   "hash": "e7370f93d1d0cde622a1f8e1c04877d8463912d04d973331ad4851f04de6915a"
  },
  "kernelspec": {
   "display_name": "Python 3.8.10 64-bit",
   "language": "python",
   "name": "python3"
  },
  "language_info": {
   "codemirror_mode": {
    "name": "ipython",
    "version": 3
   },
   "file_extension": ".py",
   "mimetype": "text/x-python",
   "name": "python",
   "nbconvert_exporter": "python",
   "pygments_lexer": "ipython3",
   "version": "3.10.0"
  },
  "orig_nbformat": 4
 },
 "nbformat": 4,
 "nbformat_minor": 2
}
