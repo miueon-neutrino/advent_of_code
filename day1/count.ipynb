{
 "cells": [
  {
   "cell_type": "code",
   "execution_count": 9,
   "metadata": {},
   "outputs": [],
   "source": [
    "lines = []\n",
    "with open(\"input.txt\") as file:\n",
    "    for line in file:\n",
    "        line = line.strip()\n",
    "        line = int(line)\n",
    "        lines.append(line)\n"
   ]
  },
  {
   "cell_type": "code",
   "execution_count": 13,
   "metadata": {},
   "outputs": [
    {
     "name": "stdout",
     "output_type": "stream",
     "text": [
      "1298\n"
     ]
    }
   ],
   "source": [
    "import functools\n",
    "test_data = [1, 2, 3, 2, 3]\n",
    "\n",
    "def count_increase(input):\n",
    "    result_r = 0\n",
    "    for i in range(1, len(input)):\n",
    "        result = input[i] - input[i-1]\n",
    "        if result > 0:\n",
    "            result_r += 1\n",
    "        \n",
    "    return result_r\n",
    "\n",
    "print(count_increase(lines))"
   ]
  },
  {
   "cell_type": "code",
   "execution_count": 14,
   "metadata": {},
   "outputs": [],
   "source": [
    "def get_lst_int(filename: str):\n",
    "    lines = []\n",
    "    with open(filename) as file:\n",
    "        for line in file:\n",
    "            line = line.strip()\n",
    "            line = int(line)\n",
    "            lines.append(line)\n",
    "    return lines"
   ]
  },
  {
   "cell_type": "code",
   "execution_count": 24,
   "metadata": {},
   "outputs": [
    {
     "name": "stdout",
     "output_type": "stream",
     "text": [
      "1248\n"
     ]
    }
   ],
   "source": [
    "input2 = get_lst_int(\"input-2.txt\")\n",
    "trimed_input2 = input2[0:len(input2)]\n",
    "new_test_data = [trimed_input2[i:i+3] for i in range(0, len(trimed_input2)-2)]\n",
    "new_test_data = map(lambda x: sum(x), new_test_data)\n",
    "print(count_increase(list(new_test_data)))\n",
    "def aggregate_window(lst, w_size):\n",
    "    new_list = [lst[i:i+3] for i in range(0, len(lst), 3)]"
   ]
  },
  {
   "cell_type": "code",
   "execution_count": 21,
   "metadata": {},
   "outputs": [
    {
     "name": "stdout",
     "output_type": "stream",
     "text": [
      "[6]\n"
     ]
    }
   ],
   "source": [
    "test_data = test_data[0:len(test_data)//3 * 3]\n",
    "new_test_data = [test_data[i:i+3] for i in range(0, len(test_data), 3)]\n",
    "new_test_data = map(lambda x:sum(x), new_test_data)\n",
    "print(list(new_test_data))"
   ]
  }
 ],
 "metadata": {
  "interpreter": {
   "hash": "e7370f93d1d0cde622a1f8e1c04877d8463912d04d973331ad4851f04de6915a"
  },
  "kernelspec": {
   "display_name": "Python 3.8.10 64-bit",
   "language": "python",
   "name": "python3"
  },
  "language_info": {
   "codemirror_mode": {
    "name": "ipython",
    "version": 3
   },
   "file_extension": ".py",
   "mimetype": "text/x-python",
   "name": "python",
   "nbconvert_exporter": "python",
   "pygments_lexer": "ipython3",
   "version": "3.8.10"
  },
  "orig_nbformat": 4
 },
 "nbformat": 4,
 "nbformat_minor": 2
}
